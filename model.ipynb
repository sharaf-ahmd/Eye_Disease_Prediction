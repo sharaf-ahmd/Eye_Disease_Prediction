{
 "cells": [
  {
   "cell_type": "code",
   "execution_count": 1,
   "id": "823899ae",
   "metadata": {},
   "outputs": [],
   "source": [
    "import tensorflow as tf\n",
    "import pandas as pd\n",
    "import matplotlib.pyplot as plt\n",
    "import seaborn as sns\n",
    "from tensorflow.keras.utils import image_dataset_from_directory\n",
    "import numpy as np"
   ]
  },
  {
   "cell_type": "markdown",
   "id": "88936fb0",
   "metadata": {},
   "source": [
    "## Data Processing"
   ]
  },
  {
   "cell_type": "code",
   "execution_count": null,
   "id": "846dfaeb",
   "metadata": {},
   "outputs": [],
   "source": [
    "training_set=image_dataset_from_directory(\n",
    "    \"Dataset/train\",\n",
    "    labels=\"inferred\",\n",
    "    label_mode=\"categorical\",\n",
    "    class_names=None,\n",
    "    color_mode=\"rgb\",\n",
    "    batch_size=32,\n",
    "    image_size=(224, 224),\n",
    "    shuffle=True,\n",
    "    seed=None,\n",
    "    validation_split=None,\n",
    "    subset=None,\n",
    "    interpolation=\"bilinear\",\n",
    "    follow_links=False,\n",
    "    crop_to_aspect_ratio=False,\n",
    ")"
   ]
  },
  {
   "cell_type": "code",
   "execution_count": null,
   "id": "e111f5fb",
   "metadata": {},
   "outputs": [],
   "source": [
    "validation_set=image_dataset_from_directory(\n",
    "    \"Dataset/val\",\n",
    "    labels=\"inferred\",\n",
    "    label_mode=\"categorical\",\n",
    "    class_names=None,\n",
    "    color_mode=\"rgb\",\n",
    "    batch_size=32,\n",
    "    image_size=(224, 224),\n",
    "    shuffle=True,\n",
    "    seed=None,\n",
    "    validation_split=None,\n",
    "    subset=None,\n",
    "    interpolation=\"bilinear\",\n",
    "    follow_links=False,\n",
    "    crop_to_aspect_ratio=False,\n",
    ")"
   ]
  },
  {
   "cell_type": "code",
   "execution_count": null,
   "id": "74c864f3",
   "metadata": {},
   "outputs": [],
   "source": [
    "training_set.class_names"
   ]
  },
  {
   "cell_type": "code",
   "execution_count": null,
   "id": "22edeb1e",
   "metadata": {},
   "outputs": [],
   "source": [
    "from collections import Counter\n",
    "class_names = validation_set.class_names"
   ]
  },
  {
   "cell_type": "code",
   "execution_count": null,
   "id": "f883f543",
   "metadata": {},
   "outputs": [],
   "source": [
    "\n",
    "# Initialize a Counter for class occurrences\n",
    "label_counter = Counter()\n",
    "\n",
    "# Loop through the dataset to count labels\n",
    "for images, labels in training_set:\n",
    "    # labels is one-hot encoded (because you used label_mode='categorical')\n",
    "    # Convert one-hot labels to class indices\n",
    "    label_indices = np.argmax(labels.numpy(), axis=1)\n",
    "    label_counter.update(label_indices)\n",
    "\n",
    "# Display the count with class names\n",
    "for class_index, count in label_counter.items():\n",
    "    print(f\"{class_names[class_index]}: {count} images\")"
   ]
  },
  {
   "cell_type": "code",
   "execution_count": null,
   "id": "475f1087",
   "metadata": {},
   "outputs": [],
   "source": [
    "inputShape=(224, 224, 3)"
   ]
  },
  {
   "cell_type": "code",
   "execution_count": null,
   "id": "9a7a13c3",
   "metadata": {},
   "outputs": [],
   "source": [
    "model=tf.keras.applications.MobileNetV3Large(\n",
    "    input_shape=inputShape,\n",
    "    alpha=1.0,\n",
    "    minimalistic=False,\n",
    "    include_top=True,\n",
    "    weights=\"imagenet\",\n",
    "    input_tensor=None,\n",
    "    classes=1000,\n",
    "    pooling=None,\n",
    "    dropout_rate=0.2,\n",
    "    classifier_activation=\"softmax\",\n",
    "    include_preprocessing=True,\n",
    ")"
   ]
  },
  {
   "cell_type": "code",
   "execution_count": null,
   "id": "1e410004",
   "metadata": {},
   "outputs": [],
   "source": [
    "# model.trainable= False ## freeze the weights of base model"
   ]
  },
  {
   "cell_type": "code",
   "execution_count": null,
   "id": "d94de8ff",
   "metadata": {},
   "outputs": [],
   "source": [
    "model2=tf.keras.models.Sequential()"
   ]
  },
  {
   "cell_type": "code",
   "execution_count": null,
   "id": "e7d06671",
   "metadata": {},
   "outputs": [],
   "source": [
    "model2.add(tf.keras.Input(shape=inputShape))"
   ]
  },
  {
   "cell_type": "code",
   "execution_count": null,
   "id": "b5170247",
   "metadata": {},
   "outputs": [],
   "source": [
    "model2.add(model)"
   ]
  },
  {
   "cell_type": "code",
   "execution_count": null,
   "id": "4125e5a4",
   "metadata": {},
   "outputs": [],
   "source": [
    "model2.add(tf.keras.layers.Dense(units=4,activation='softmax'))"
   ]
  },
  {
   "cell_type": "code",
   "execution_count": null,
   "id": "494594cf",
   "metadata": {},
   "outputs": [],
   "source": [
    "import tensorflow_addons as tfa\n",
    "\n",
    "metricsList = ['accuracy', tfa.metrics.F1Score(num_classes=4, average='macro')]"
   ]
  },
  {
   "cell_type": "code",
   "execution_count": null,
   "id": "2c8c15c6",
   "metadata": {},
   "outputs": [],
   "source": [
    "model2.compile(\n",
    "    optimizer=tf.keras.optimizers.Adam(learning_rate=0.0001),\n",
    "    loss='categorical_crossentropy',\n",
    "    metrics=metricsList\n",
    ")"
   ]
  },
  {
   "cell_type": "code",
   "execution_count": null,
   "id": "385abbde",
   "metadata": {},
   "outputs": [],
   "source": [
    "'''\n",
    "model2 = tf.keras.Sequential([\n",
    "    tf.keras.Input(shape=inputShape),\n",
    "    model,\n",
    "    tf.keras.layers.Dense(units=4, activation='softmax')\n",
    "])\n",
    "\n",
    "metricsList = ['accuracy', tfa.metrics.F1Score(num_classes=4, average='macro')]\n",
    "\n",
    "model2.compile(\n",
    "    optimizer=tf.keras.optimizers.Adam(learning_rate=0.0001),\n",
    "    loss='categorical_crossentropy',\n",
    "    metrics=metricsList\n",
    ")\n",
    "'''"
   ]
  },
  {
   "cell_type": "code",
   "execution_count": null,
   "id": "ebdcc22b",
   "metadata": {},
   "outputs": [],
   "source": [
    "model2.summary()"
   ]
  },
  {
   "cell_type": "code",
   "execution_count": null,
   "id": "649d90ab",
   "metadata": {},
   "outputs": [],
   "source": [
    "history = model2.fit(x=training_set,validation_data=validation_set, epochs=15)"
   ]
  },
  {
   "cell_type": "code",
   "execution_count": null,
   "id": "34233847",
   "metadata": {},
   "outputs": [],
   "source": [
    "model2.evaluate(validation_set)"
   ]
  },
  {
   "cell_type": "code",
   "execution_count": null,
   "id": "f4d9024f",
   "metadata": {},
   "outputs": [],
   "source": [
    "model2.save('Eye_disease_prediction_model.h5')"
   ]
  },
  {
   "cell_type": "code",
   "execution_count": null,
   "id": "3251f7b7",
   "metadata": {},
   "outputs": [],
   "source": [
    "import pickle\n",
    "with open('training_history.pkl', 'wb') as f:\n",
    "        pickle.dump(history.history, f)"
   ]
  },
  {
   "cell_type": "code",
   "execution_count": null,
   "id": "4555694d",
   "metadata": {},
   "outputs": [],
   "source": [
    "test_set=image_dataset_from_directory(\n",
    "    \"Dataset/test\",\n",
    "    labels=\"inferred\",\n",
    "    label_mode=\"categorical\",\n",
    "    class_names=None,\n",
    "    color_mode=\"rgb\",\n",
    "    batch_size=32,\n",
    "    image_size=(224, 224),\n",
    "    shuffle=True,\n",
    "    seed=None,\n",
    "    validation_split=None,\n",
    "    subset=None,\n",
    "    interpolation=\"bilinear\",\n",
    "    follow_links=False,\n",
    "    crop_to_aspect_ratio=False,\n",
    ")"
   ]
  },
  {
   "cell_type": "code",
   "execution_count": null,
   "id": "9e9c1551",
   "metadata": {},
   "outputs": [],
   "source": [
    "model2.evaluate(test_set)"
   ]
  },
  {
   "cell_type": "code",
   "execution_count": null,
   "id": "2cb1ff51",
   "metadata": {},
   "outputs": [],
   "source": []
  }
 ],
 "metadata": {
  "kernelspec": {
   "display_name": "dl-env",
   "language": "python",
   "name": "python3"
  },
  "language_info": {
   "codemirror_mode": {
    "name": "ipython",
    "version": 3
   },
   "file_extension": ".py",
   "mimetype": "text/x-python",
   "name": "python",
   "nbconvert_exporter": "python",
   "pygments_lexer": "ipython3",
   "version": "3.10.18"
  }
 },
 "nbformat": 4,
 "nbformat_minor": 5
}
